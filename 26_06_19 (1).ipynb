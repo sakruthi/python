{
  "nbformat": 4,
  "nbformat_minor": 0,
  "metadata": {
    "colab": {
      "name": "26-06-19.ipynb",
      "version": "0.3.2",
      "provenance": [],
      "collapsed_sections": []
    },
    "kernelspec": {
      "name": "python3",
      "display_name": "Python 3"
    }
  },
  "cells": [
    {
      "cell_type": "code",
      "metadata": {
        "id": "k43VtmuCmpg8",
        "colab_type": "code",
        "outputId": "4376ff6b-de59-464d-d24c-0e0c98ee266a",
        "colab": {
          "base_uri": "https://localhost:8080/",
          "height": 105
        }
      },
      "source": [
        "user1={'Name':'Sakruthi','Age':'19','EmailID':'psakruthivishnupriya@gmail.com','Mobilenumber':'970'}\n",
        "user2=user1.copy()\n",
        "print(user1)\n",
        "print(user2)\n",
        "user1['Address']='Hyderbad'\n",
        "print(user1)\n",
        "print(user2)"
      ],
      "execution_count": 0,
      "outputs": [
        {
          "output_type": "stream",
          "text": [
            "{'Name': 'Sakruthi', 'Age': '19', 'EmailID': 'psakruthivishnupriya@gmail.com', 'Mobilenumber': '970'}\n",
            "{'Name': 'Sakruthi', 'Age': '19', 'EmailID': 'psakruthivishnupriya@gmail.com', 'Mobilenumber': '970'}\n",
            "{'Name': 'Sakruthi', 'Age': '19', 'EmailID': 'psakruthivishnupriya@gmail.com', 'Mobilenumber': '970', 'Address': 'Hyderbad'}\n",
            "{'Name': 'Sakruthi', 'Age': '19', 'EmailID': 'psakruthivishnupriya@gmail.com', 'Mobilenumber': '970'}\n"
          ],
          "name": "stdout"
        }
      ]
    },
    {
      "cell_type": "markdown",
      "metadata": {
        "id": "ukzuysqy8gUT",
        "colab_type": "text"
      },
      "source": [
        ""
      ]
    },
    {
      "cell_type": "code",
      "metadata": {
        "id": "2tn7mSesnLpp",
        "colab_type": "code",
        "outputId": "35eaf3a7-2d3f-45c6-9cd1-02957213d5fc",
        "colab": {
          "base_uri": "https://localhost:8080/",
          "height": 34
        }
      },
      "source": [
        "user1={'Name':'Sakruthi','Age':'19','EmailID':'psakruthivishnupriya@gmail.com','Mobilenumber':'970'}\n",
        "print(str(user1))"
      ],
      "execution_count": 0,
      "outputs": [
        {
          "output_type": "stream",
          "text": [
            "{'Name': 'Sakruthi', 'Age': '19', 'EmailID': 'psakruthivishnupriya@gmail.com', 'Mobilenumber': '970'}\n"
          ],
          "name": "stdout"
        }
      ]
    },
    {
      "cell_type": "code",
      "metadata": {
        "id": "OwDwIr2ynk1i",
        "colab_type": "code",
        "outputId": "d86348c7-90a0-4f08-c594-83d61befbe23",
        "colab": {
          "base_uri": "https://localhost:8080/",
          "height": 51
        }
      },
      "source": [
        "s=\"5678\"\n",
        "s1=\"App1889\"\n",
        "print(s.isnumeric())\n",
        "print(s1.isnumeric())"
      ],
      "execution_count": 0,
      "outputs": [
        {
          "output_type": "stream",
          "text": [
            "True\n",
            "False\n"
          ],
          "name": "stdout"
        }
      ]
    },
    {
      "cell_type": "code",
      "metadata": {
        "id": "LtEI-N4qnxaT",
        "colab_type": "code",
        "outputId": "149d4702-8acd-49f6-d1f5-9b1279a32c09",
        "colab": {
          "base_uri": "https://localhost:8080/",
          "height": 85
        }
      },
      "source": [
        "user1={'Name':'sakruthi','Age':'19','Emailid':'psakruthivishnupriya@gmail.com','Mobilenumber':'970'}\n",
        "print(\"user1[Name]=\",user1['Name'])\n",
        "print(\"user1[Emailid]=\",user1['Emailid'])\n",
        "print(\"user1[Age]=\",user1['Age'])\n",
        "print(\"user1[Mobilenumber]=\",user1['Mobilenumber'])"
      ],
      "execution_count": 0,
      "outputs": [
        {
          "output_type": "stream",
          "text": [
            "user1[Name]= sakruthi\n",
            "user1[Emailid]= psakruthivishnupriya@gmail.com\n",
            "user1[Age]= 19\n",
            "user1[Mobilenumber]= 970\n"
          ],
          "name": "stdout"
        }
      ]
    },
    {
      "cell_type": "code",
      "metadata": {
        "id": "kBeqriBGocJh",
        "colab_type": "code",
        "outputId": "75f6ab52-b00b-462f-cd07-4041a64a7358",
        "colab": {
          "base_uri": "https://localhost:8080/",
          "height": 68
        }
      },
      "source": [
        "user1={'Name':'Sakruthi','Age':'19','EmailID':'psakruthivishnupriya@gmail.com','Mobilenumber':'970'}\n",
        "print(user1['EmailID'])\n",
        "user1['EmailID']='psakruthivishnupriya@gmail.com'\n",
        "print(user1['EmailID'])\n",
        "user1['Address']='Hyderabad'\n",
        "print(user1[\"Address\"])"
      ],
      "execution_count": 0,
      "outputs": [
        {
          "output_type": "stream",
          "text": [
            "psakruthivishnupriya@gmail.com\n",
            "psakruthivishnupriya@gmail.com\n",
            "Hyderabad\n"
          ],
          "name": "stdout"
        }
      ]
    },
    {
      "cell_type": "code",
      "metadata": {
        "id": "eyxYAPPNoh3A",
        "colab_type": "code",
        "colab": {}
      },
      "source": [
        "user1={'Name':'Sakruthi','Age':'19','EmailID':'psakruthivishnupriya@gmail.com','Mobilenumber':'970'}\n",
        "del user1['EmailID']\n",
        "user1.clear()\n",
        "del user1"
      ],
      "execution_count": 0,
      "outputs": []
    },
    {
      "cell_type": "code",
      "metadata": {
        "id": "yy5qAiIKomIg",
        "colab_type": "code",
        "outputId": "83219466-ef73-4c1b-c44c-e3b9805dae0d",
        "colab": {
          "base_uri": "https://localhost:8080/",
          "height": 51
        }
      },
      "source": [
        "user1={'Name':'Sakruthi','Age':'19','EmailID':'psakruthivishnupriya@gmail.com','Mobilenumber':'970'}\n",
        "print(len(user1))\n",
        "user1['Address']='Hyderabad'\n",
        "print(len(user1))"
      ],
      "execution_count": 0,
      "outputs": [
        {
          "output_type": "stream",
          "text": [
            "4\n",
            "5\n"
          ],
          "name": "stdout"
        }
      ]
    },
    {
      "cell_type": "markdown",
      "metadata": {
        "id": "ODSBzb5_oyS8",
        "colab_type": "text"
      },
      "source": [
        "# Sting Formating  \n",
        "%s%d\n"
      ]
    },
    {
      "cell_type": "code",
      "metadata": {
        "id": "VEppDiCZpBjX",
        "colab_type": "code",
        "outputId": "f6cf3062-8d91-4f72-fd43-e5f3ca547a15",
        "colab": {
          "base_uri": "https://localhost:8080/",
          "height": 34
        }
      },
      "source": [
        "lst=['Python','Programming']\n",
        "print(\"%s %s\"%(lst[0],lst[1]))"
      ],
      "execution_count": 0,
      "outputs": [
        {
          "output_type": "stream",
          "text": [
            "Python Programming\n"
          ],
          "name": "stdout"
        }
      ]
    },
    {
      "cell_type": "code",
      "metadata": {
        "id": "eAAZuhlbqu0i",
        "colab_type": "code",
        "outputId": "2d2ebc9c-6f30-4fdc-ed0f-8d6ae32188be",
        "colab": {
          "base_uri": "https://localhost:8080/",
          "height": 34
        }
      },
      "source": [
        "lst=['Python','Programming']\n",
        "print(\"{0} {1}\".format(lst[0],lst[1]))"
      ],
      "execution_count": 0,
      "outputs": [
        {
          "output_type": "stream",
          "text": [
            "Python Programming\n"
          ],
          "name": "stdout"
        }
      ]
    },
    {
      "cell_type": "markdown",
      "metadata": {
        "id": "0wdWPtfg8mAm",
        "colab_type": "text"
      },
      "source": [
        "###Contact Application\n",
        "1.Add new contact.  \n",
        "2.Search for contact.  \n",
        "3.List of all contact    \n",
        " ->name1-phone1  \n",
        " ->name2-phone2   \n",
        "4.Remove contact      \n",
        "5.Modify contact\n",
        " "
      ]
    },
    {
      "cell_type": "code",
      "metadata": {
        "id": "DBhEQvM09yoM",
        "colab_type": "code",
        "outputId": "06231ce3-e3d0-4889-e566-6a890828dcfa",
        "colab": {
          "base_uri": "https://localhost:8080/",
          "height": 68
        }
      },
      "source": [
        "contact={}\n",
        "def addcontact(name,phone):\n",
        "  #verify that the contact doesnot already exists\n",
        "    if name not in contact:\n",
        "       contact[name]=phone\n",
        "       print(\"contact %s added\"%name)\n",
        "    else:\n",
        "        print(\"contact %s already exists\"%name)\n",
        "    return\n",
        "addcontact(\"Anil\",95137521)\n",
        "addcontact(\"harsha\",996633221)\n",
        "addcontact(\"sakruthi\",995777777)"
      ],
      "execution_count": 0,
      "outputs": [
        {
          "output_type": "stream",
          "text": [
            "contact Anil added\n",
            "contact harsha added\n",
            "contact sakruthi added\n"
          ],
          "name": "stdout"
        }
      ]
    },
    {
      "cell_type": "code",
      "metadata": {
        "id": "PZxuXjcBAmLH",
        "colab_type": "code",
        "outputId": "03252d7b-0140-4630-de5d-a7db2c6509fb",
        "colab": {
          "base_uri": "https://localhost:8080/",
          "height": 68
        }
      },
      "source": [
        "#search for a particular contact from contacts list\n",
        "def searchcontact(name):\n",
        "  if name in contact:\n",
        "    print(name,\":\",contact[name])\n",
        "  else:\n",
        "    print(\"%s does not exists\" %name)\n",
        "  return\n",
        "searchcontact(\"Anil\")\n",
        "searchcontact(\"ajay\")\n",
        "searchcontact(\"harsha\")"
      ],
      "execution_count": 0,
      "outputs": [
        {
          "output_type": "stream",
          "text": [
            "Anil : 95137521\n",
            "ajay does not exists\n",
            "harsha : 996633221\n"
          ],
          "name": "stdout"
        }
      ]
    },
    {
      "cell_type": "code",
      "metadata": {
        "id": "O6FbGfLJCuem",
        "colab_type": "code",
        "outputId": "2f6e90d5-d08b-4744-afd0-16b3a76dba90",
        "colab": {
          "base_uri": "https://localhost:8080/",
          "height": 34
        }
      },
      "source": [
        "#new contact is given as a dictionary\n",
        "print(contact)"
      ],
      "execution_count": 0,
      "outputs": [
        {
          "output_type": "stream",
          "text": [
            "{'Anil': 95137521, 'harsha': 996633221, 'sakruthi': 995777777}\n"
          ],
          "name": "stdout"
        }
      ]
    },
    {
      "cell_type": "code",
      "metadata": {
        "id": "Qq5QqGmB_8FU",
        "colab_type": "code",
        "outputId": "b5481fc9-0ea0-4090-d372-9fe90b4bba1c",
        "colab": {
          "base_uri": "https://localhost:8080/",
          "height": 34
        }
      },
      "source": [
        "#new contacts is given as a dictionary\n",
        "#merge new contact with existing contact list\n",
        "def importcontact(newcontact):\n",
        "    contact.update(newcontact)\n",
        "    print(len(newcontact.keys()),\"contacts added successfully\")\n",
        "    return\n",
        "newcontact={'priya':990205046,'ajay':88834509718}\n",
        "importcontact(newcontact)"
      ],
      "execution_count": 0,
      "outputs": [
        {
          "output_type": "stream",
          "text": [
            "2 contacts added successfully\n"
          ],
          "name": "stdout"
        }
      ]
    },
    {
      "cell_type": "code",
      "metadata": {
        "id": "-mBD8ETiFBwv",
        "colab_type": "code",
        "outputId": "62eb6fca-ea14-4954-a26a-07b9963783e9",
        "colab": {
          "base_uri": "https://localhost:8080/",
          "height": 54
        }
      },
      "source": [
        "print(contact)"
      ],
      "execution_count": 0,
      "outputs": [
        {
          "output_type": "stream",
          "text": [
            "{'Anil': 95137521, 'harsha': 996633221, 'sakruthi': 995777777, 'priya': 990205046, 'ajay': 88834509718, 'hari': 993205046}\n"
          ],
          "name": "stdout"
        }
      ]
    },
    {
      "cell_type": "code",
      "metadata": {
        "id": "I7MTDoZdEQgY",
        "colab_type": "code",
        "outputId": "dedd2b03-ac49-4443-aafb-de3c4d09f27f",
        "colab": {
          "base_uri": "https://localhost:8080/",
          "height": 68
        }
      },
      "source": [
        "#delete a contact from contact list\n",
        "def deletecontact(name):\n",
        "  if name in contact:\n",
        "    del contact[name]\n",
        "    print(name,\":is deleted from the contact\")\n",
        "  else:\n",
        "          print(name,\"is not exits in the contacts\")\n",
        "  return\n",
        "deletecontact(\"hari\")\n",
        "deletecontact(\"nag\")\n",
        "deletecontact(\"harsha\")"
      ],
      "execution_count": 0,
      "outputs": [
        {
          "output_type": "stream",
          "text": [
            "hari is not exits in the contacts\n",
            "nag is not exits in the contacts\n",
            "harsha :is deleted from the contact\n"
          ],
          "name": "stdout"
        }
      ]
    },
    {
      "cell_type": "code",
      "metadata": {
        "id": "Jon4Z_-rIWUw",
        "colab_type": "code",
        "outputId": "6dd384b7-2a64-4b4c-93c2-fc131a3b4d0f",
        "colab": {
          "base_uri": "https://localhost:8080/",
          "height": 34
        }
      },
      "source": [
        "print(contact)"
      ],
      "execution_count": 0,
      "outputs": [
        {
          "output_type": "stream",
          "text": [
            "{'Anil': 95137521, 'sakruthi': 995777777, 'priya': 990205046, 'ajay': 88834509718}\n"
          ],
          "name": "stdout"
        }
      ]
    },
    {
      "cell_type": "markdown",
      "metadata": {
        "id": "0Cbjn3iThQmp",
        "colab_type": "text"
      },
      "source": [
        "# Packages and modules:-   \n",
        "package:collection of modules(python file.py)  \n",
        "sub packages:its part of main package    \n",
        "Module:A single python file contains set of operations(functions)    Packages-->subpackage-->modules-->funtion    \n",
        "standard lib--math\n"
      ]
    },
    {
      "cell_type": "code",
      "metadata": {
        "colab_type": "code",
        "outputId": "b142a4e1-e32c-4bff-e048-f13f4d9e1128",
        "id": "bHCK7lkilts5",
        "colab": {
          "base_uri": "https://localhost:8080/",
          "height": 34
        }
      },
      "source": [
        "from math import floor as f1  #the memory allocated only for the function of floor\n",
        "f1(123.456)"
      ],
      "execution_count": 0,
      "outputs": [
        {
          "output_type": "execute_result",
          "data": {
            "text/plain": [
              "123"
            ]
          },
          "metadata": {
            "tags": []
          },
          "execution_count": 56
        }
      ]
    },
    {
      "cell_type": "code",
      "metadata": {
        "id": "WF-3gwm6gnhp",
        "colab_type": "code",
        "colab": {
          "base_uri": "https://localhost:8080/",
          "height": 34
        },
        "outputId": "d9e957f0-35d3-4fa0-c486-9247279685cf"
      },
      "source": [
        "from math import factorial as fact\n",
        "fact(5)"
      ],
      "execution_count": 47,
      "outputs": [
        {
          "output_type": "execute_result",
          "data": {
            "text/plain": [
              "120"
            ]
          },
          "metadata": {
            "tags": []
          },
          "execution_count": 47
        }
      ]
    },
    {
      "cell_type": "code",
      "metadata": {
        "id": "Y9FP3qDHg6zS",
        "colab_type": "code",
        "colab": {
          "base_uri": "https://localhost:8080/",
          "height": 34
        },
        "outputId": "704e21b4-ccd7-40aa-9d5f-0c1f2cbfaa01"
      },
      "source": [
        "import math\n",
        "math.factorial(5)"
      ],
      "execution_count": 48,
      "outputs": [
        {
          "output_type": "execute_result",
          "data": {
            "text/plain": [
              "120"
            ]
          },
          "metadata": {
            "tags": []
          },
          "execution_count": 48
        }
      ]
    },
    {
      "cell_type": "code",
      "metadata": {
        "id": "YC3zyuMlhCfC",
        "colab_type": "code",
        "colab": {
          "base_uri": "https://localhost:8080/",
          "height": 34
        },
        "outputId": "607759f1-eb7c-4516-bef5-3dd5d6f53ee3"
      },
      "source": [
        "#generate the random numbers between the two limits\n",
        "import random\n",
        "def generateRandomNumbers(n,lb,ub):\n",
        "    for i in range(0,n):\n",
        "        print(random.randint(lb,ub),end=\" \")\n",
        "    return\n",
        "generateRandomNumbers(10,12,120)"
      ],
      "execution_count": 49,
      "outputs": [
        {
          "output_type": "stream",
          "text": [
            "49 117 97 15 33 88 26 52 52 89 "
          ],
          "name": "stdout"
        }
      ]
    },
    {
      "cell_type": "code",
      "metadata": {
        "id": "dY4E-433l7up",
        "colab_type": "code",
        "colab": {
          "base_uri": "https://localhost:8080/",
          "height": 153
        },
        "outputId": "356fac1b-31ab-4954-ed7d-1a375458cfff"
      },
      "source": [
        "import math\n",
        "a=2.3\n",
        "b=5\n",
        "print (\"Natural logarithm of 14 is : \", end=\"\") \n",
        "print (math.log(14)) \n",
        "\n",
        "#gcd \n",
        "print (\"The gcd of 60 and 48 is : \",end=\"\") \n",
        "print (math.gcd(60,48)) \n",
        "\n",
        "\n",
        "# fmod\n",
        "Tup = (15, 22, -2, -40 ) \n",
        "print(math.fmod(4, 5)) \n",
        "print(math.fmod(43.50, 4.5))\n",
        "\n",
        "# returning the floor of 2.3 \n",
        "print (\"The floor of 2.3 is : \", end=\"\") \n",
        "print (math.floor(a)) \n",
        "\n",
        "# returning the factorial of 5 \n",
        "print (\"The factorial of 5 is : \", end=\"\") \n",
        "print (math.factorial(b)) \n",
        "\n",
        "\n",
        "# print the square root of 3\n",
        "print(math.sqrt(4))\n",
        "\n",
        "\n",
        "\n",
        "# function to check if prime or not  \n",
        "def check(n): \n",
        "    if n == 1: \n",
        "        return False\n",
        "          \n",
        "        # from 1 to sqrt(n)  \n",
        "    for x in range(2, (int)(math.sqrt(n))+1): \n",
        "        if n % x == 0: \n",
        "            return False \n",
        "    return True\n",
        "  \n",
        "# driver code \n",
        "n = 23\n",
        "if check(n): \n",
        "    print(\"prime\")  \n",
        "else: \n",
        "    print(\"not prime\")"
      ],
      "execution_count": 57,
      "outputs": [
        {
          "output_type": "stream",
          "text": [
            "Natural logarithm of 14 is : 2.6390573296152584\n",
            "The gcd of 60 and 48 is : 12\n",
            "4.0\n",
            "3.0\n",
            "The floor of 2.3 is : 2\n",
            "The factorial of 5 is : 120\n",
            "2.0\n",
            "prime\n"
          ],
          "name": "stdout"
        }
      ]
    }
  ]
}