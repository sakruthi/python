{
  "nbformat": 4,
  "nbformat_minor": 0,
  "metadata": {
    "colab": {
      "name": "27-june-19.ipynb",
      "version": "0.3.2",
      "provenance": [],
      "collapsed_sections": [],
      "include_colab_link": true
    },
    "kernelspec": {
      "name": "python3",
      "display_name": "Python 3"
    }
  },
  "cells": [
    {
      "cell_type": "markdown",
      "metadata": {
        "id": "view-in-github",
        "colab_type": "text"
      },
      "source": [
        "<a href=\"https://colab.research.google.com/github/sakruthi/python/blob/master/27_june_19.ipynb\" target=\"_parent\"><img src=\"https://colab.research.google.com/assets/colab-badge.svg\" alt=\"Open In Colab\"/></a>"
      ]
    },
    {
      "cell_type": "markdown",
      "metadata": {
        "id": "fpdiPB6eC2UI",
        "colab_type": "text"
      },
      "source": [
        "# File  handling in python:-     \n",
        "## file:-document containing information residing on permanent storagetypes--doc,pdf,text,csv,files and etc   \n",
        "## fileI/O:Input and output    \n",
        "###           keyboard input     \n",
        "###          screen as output             \n",
        "###            read/write\n",
        "               \n",
        "                 \n",
        "###           open()--open the file   \n",
        "###          close()--close the file   \n",
        "             \n",
        "     \n",
        "     \n",
        "##     open(filename,\"mode of file\")\n",
        "     \n",
        "###     \"r\"--it opens the file for reading    \n",
        "###     \"w\"--the mode open the file writing\n",
        "     \n",
        "##   **if the file name is not present,it creates a new file and writesome data into it  \n",
        "### New Section"
      ]
    },
    {
      "cell_type": "code",
      "metadata": {
        "id": "4Aoy8STEITBB",
        "colab_type": "code",
        "outputId": "c985ccea-9753-4847-e222-71ad9773292f",
        "colab": {
          "base_uri": "https://localhost:8080/",
          "height": 35
        }
      },
      "source": [
        "# Function to create a file and write some data\n",
        "def createfile(filename):\n",
        "    f=open(filename,\"w\")\n",
        "    for i in range(10):\n",
        "        f.write(\"this is %d lines\\n\" % i)\n",
        "    print(\"file is created successfully and data is written\")\n",
        "    f.close()\n",
        "    return\n",
        "createfile(\"file.txt\")"
      ],
      "execution_count": 0,
      "outputs": [
        {
          "output_type": "stream",
          "text": [
            "file is created successfully and data is written\n"
          ],
          "name": "stdout"
        }
      ]
    },
    {
      "cell_type": "code",
      "metadata": {
        "id": "AnO1xMk0IndY",
        "colab_type": "code",
        "outputId": "eed928c6-11c6-4097-e400-01c2d90c57a5",
        "colab": {
          "base_uri": "https://localhost:8080/",
          "height": 217
        }
      },
      "source": [
        "#Function for reading the file data\n",
        "def readfile(filename):\n",
        "    f=open(filename,\"r\")\n",
        "    if f.mode == \"r\":\n",
        "        x=f.read()\n",
        "        print(x)\n",
        "    f.close()\n",
        "    return\n",
        "readfile(\"file.txt\")"
      ],
      "execution_count": 0,
      "outputs": [
        {
          "output_type": "stream",
          "text": [
            "this is 0 lines\n",
            "this is 1 lines\n",
            "this is 2 lines\n",
            "this is 3 lines\n",
            "this is 4 lines\n",
            "this is 5 lines\n",
            "this is 6 lines\n",
            "this is 7 lines\n",
            "this is 8 lines\n",
            "this is 9 lines\n",
            "\n"
          ],
          "name": "stdout"
        }
      ]
    },
    {
      "cell_type": "code",
      "metadata": {
        "id": "vZK65ZrfNbdp",
        "colab_type": "code",
        "outputId": "11bd6e31-020f-4990-e010-865473f3990a",
        "colab": {
          "base_uri": "https://localhost:8080/",
          "height": 35
        }
      },
      "source": [
        "def createfile(filename):\n",
        "    f=open(filename,\"w\")\n",
        "    for i in range(10):\n",
        "        f.write(\"test %d line\\n\" % i)\n",
        "    print(\"file is created successfully and data is written\")\n",
        "    f.close()\n",
        "    return\n",
        "createfile(\"file.txt\")"
      ],
      "execution_count": 0,
      "outputs": [
        {
          "output_type": "stream",
          "text": [
            "file is created successfully and data is written\n"
          ],
          "name": "stdout"
        }
      ]
    },
    {
      "cell_type": "code",
      "metadata": {
        "id": "tTL4qBRQS4Ty",
        "colab_type": "code",
        "outputId": "29eb150c-3262-43f8-cdf6-b3680128fb6d",
        "colab": {
          "base_uri": "https://localhost:8080/",
          "height": 35
        }
      },
      "source": [
        "ls"
      ],
      "execution_count": 0,
      "outputs": [
        {
          "output_type": "stream",
          "text": [
            "file.txt  \u001b[0m\u001b[01;34msample_data\u001b[0m/\n"
          ],
          "name": "stdout"
        }
      ]
    },
    {
      "cell_type": "code",
      "metadata": {
        "id": "K-UZ0Wa-M-iT",
        "colab_type": "code",
        "outputId": "2679bf9d-37d3-443f-b79c-41c5ad9ed0ed",
        "colab": {
          "base_uri": "https://localhost:8080/",
          "height": 235
        }
      },
      "source": [
        "cat file.txt -- second cell"
      ],
      "execution_count": 0,
      "outputs": [
        {
          "output_type": "stream",
          "text": [
            "test 0 line\n",
            "test 1 line\n",
            "test 2 line\n",
            "test 3 line\n",
            "test 4 line\n",
            "test 5 line\n",
            "test 6 line\n",
            "test 7 line\n",
            "test 8 line\n",
            "test 9 line\n",
            "cat: second: No such file or directory\n",
            "cat: cell: No such file or directory\n"
          ],
          "name": "stdout"
        }
      ]
    },
    {
      "cell_type": "code",
      "metadata": {
        "id": "CA20jPtkXxUC",
        "colab_type": "code",
        "colab": {}
      },
      "source": [
        "#data to append\n",
        "#function to append the data to existing file\n",
        "def appenddata(filename):\n",
        "  f=open(filename,\"a\")\n",
        "  f.write(\"new line 1\\n\")\n",
        "  f.write(\"new line 2\\n\")\n",
        "  f.close()\n",
        "  return\n",
        "appenddata(\"file.txt\")"
      ],
      "execution_count": 0,
      "outputs": []
    },
    {
      "cell_type": "code",
      "metadata": {
        "id": "xCHrMMq8Zeko",
        "colab_type": "code",
        "outputId": "9b4ed134-8861-4775-c0f6-3a189d22a272",
        "colab": {
          "base_uri": "https://localhost:8080/",
          "height": 35
        }
      },
      "source": [
        "def dataanalysiswordcount(filename,word):\n",
        "      f=open(filename,\"r\")\n",
        "      if f.mode == \"r\":\n",
        "         x=f.read()\n",
        "         lst=x.split()\n",
        "      cnt=lst.count(word)\n",
        "      return cnt\n",
        "print(dataanalysiswordcount(\"file.txt\",\"rest\"))"
      ],
      "execution_count": 0,
      "outputs": [
        {
          "output_type": "stream",
          "text": [
            "0\n"
          ],
          "name": "stdout"
        }
      ]
    },
    {
      "cell_type": "code",
      "metadata": {
        "id": "UvOduJdnkmUZ",
        "colab_type": "code",
        "outputId": "e701e05f-2493-4d5a-e904-6aa061a76757",
        "colab": {
          "base_uri": "https://localhost:8080/",
          "height": 35
        }
      },
      "source": [
        "def dataanalysiswordcount(filename,word):\n",
        "      f=open(filename,\"r\")\n",
        "      if f.mode == \"r\":\n",
        "         x=f.read()\n",
        "         lst=x.split()\n",
        "      cnt=lst.count(word)\n",
        "      return cnt\n",
        "print(dataanalysiswordcount(\"file.txt\",\"line\"))"
      ],
      "execution_count": 0,
      "outputs": [
        {
          "output_type": "stream",
          "text": [
            "12\n"
          ],
          "name": "stdout"
        }
      ]
    },
    {
      "cell_type": "code",
      "metadata": {
        "id": "rrobuay2g05P",
        "colab_type": "code",
        "outputId": "51d6350d-e522-40ea-d089-32a285f4c041",
        "colab": {
          "base_uri": "https://localhost:8080/",
          "height": 35
        }
      },
      "source": [
        "#funtion to count of characters in file\n",
        " \n",
        "def countcharacter(filename):\n",
        "    f=open(filename,\"r\")\n",
        "    if f.mode == \"r\":\n",
        "      x=f.read()\n",
        "      lst=list(x)\n",
        "    return len(lst)\n",
        "print(countcharacter(\"file.txt\"))"
      ],
      "execution_count": 0,
      "outputs": [
        {
          "output_type": "stream",
          "text": [
            "142\n"
          ],
          "name": "stdout"
        }
      ]
    },
    {
      "cell_type": "code",
      "metadata": {
        "id": "ocgh3hmKlfOs",
        "colab_type": "code",
        "outputId": "0f7ddec8-e38c-4336-c0dd-f4d3168f80fa",
        "colab": {
          "base_uri": "https://localhost:8080/",
          "height": 35
        }
      },
      "source": [
        "# Function to count the upper case character from given file\n",
        "\n",
        "def countCharacter(filename):\n",
        "    c=0\n",
        "    f=open(filename,\"r\")\n",
        "    if f.mode=='r':\n",
        "        x=f.read()\n",
        "        lst=list(x)\n",
        "        for i in lst:\n",
        "            if(i.isupper()):\n",
        "                c=c+1;\n",
        "    return c\n",
        "print(countCharacter(\"file.txt\"))"
      ],
      "execution_count": 0,
      "outputs": [
        {
          "output_type": "stream",
          "text": [
            "0\n"
          ],
          "name": "stdout"
        }
      ]
    },
    {
      "cell_type": "code",
      "metadata": {
        "id": "b-z2e8dtpdbC",
        "colab_type": "code",
        "outputId": "dc83f3cf-17a6-4f8f-973b-9c48149dd086",
        "colab": {
          "base_uri": "https://localhost:8080/",
          "height": 72
        }
      },
      "source": [
        "fname = input(\"Enter file name: \")\n",
        "num_lines = 0\n",
        "with open(fname, 'r') as f:\n",
        "    for line in f:\n",
        "        num_lines += 1\n",
        "print(\"Number of lines:\")\n",
        "print(num_lines)"
      ],
      "execution_count": 0,
      "outputs": [
        {
          "output_type": "stream",
          "text": [
            "Enter file name: file.txt\n",
            "Number of lines:\n",
            "12\n"
          ],
          "name": "stdout"
        }
      ]
    },
    {
      "cell_type": "markdown",
      "metadata": {
        "id": "Cr20HgCFNtCY",
        "colab_type": "text"
      },
      "source": [
        "# Regular Expressions:-\n",
        "## Pattern Matching  \n",
        "\n",
        "### Symbolic Notattion of a pattern\n",
        "\n",
        "Pattern(RE) represents the set of the values that a given\n",
        "*[0-9]---any digit\n",
        "*[a-z]----any lower case character\n",
        "*[A-Z]----any upper case character\n",
        "*[2468]---all the single digit multiples of 2\n",
        "*^0-9 $----> only single digit number\n",
        "\n",
        " *cap symbol is used for regular expression    \n",
        " *Dollar symbol is used to end of regular expressions    \n",
        "*^[0-9]{3}$----regular expression accepts only three digit number *\n",
        "\n",
        "^[a-z]{5}$----- it accepts only the 5 chracter string that to lower case characters\n",
        "\n",
        "^[a-zA-Z]{6}$----->a string can be upper/lower case chars and len of 6\n",
        "\n",
        "^[a-zA-Z]{6-15}$ ---> a string min of 6 characters and max of 6 characters and max of 15 characters(upper and lower case digits)\n",
        "\n",
        "**^[a-zA-z0-9]{6-15}$----> upper ,lower and digits\n",
        "\n",
        "** ^[6-9][0-9]{9}$--->RE for indian mobile number\n",
        "\n",
        "** ^[0][6-9][0-9]{9}$----->RE indian mobile number\n",
        "\n",
        "** [+][9][1][6-9][0-9]{9}$----->RE indian mobile number\n",
        "###Emailidvalidation:username@domainname.extension  \n",
        "  \n",
        "\n",
        "### username:-  \n",
        "           *Length will be : [6-15]         \n",
        "           *No spl chars apart from _                \n",
        "           *Should not begin and end with _             \n",
        "           * Character set : All digits and lower case alphabets _          \n",
        "### Domain Name:-  \n",
        "         *Length of domain :[3,18]       \n",
        "         *No spl characters             \n",
        "         *Character set :all digits and lower case alphabets     \n",
        "### Extension:- \n",
        "        *Length of extension:[2,4]                       \n",
        "        *No spl characters                      \n",
        "        *Character set:Lower case characters   \n",
        "\n",
        "### Regular Expression EmailID:-\n",
        "        ^[0-9a-z][0-9a-z_.]{5,14}[0-9a-z][@][a-z0-9]{3,18}[.][a-z]{2,4}$\n",
        "\n"
      ]
    },
    {
      "cell_type": "code",
      "metadata": {
        "id": "FgVWxEh1tD26",
        "colab_type": "code",
        "outputId": "a68b9e73-7540-4009-a671-89750a4409df",
        "colab": {
          "base_uri": "https://localhost:8080/",
          "height": 54
        }
      },
      "source": [
        "import re\n",
        "def phonenumbervalidate(phone):\n",
        "  pattern='^[6-9][0-9]{9}$'\n",
        "  phone=str(phone)\n",
        "  if re.match(pattern,phone):\n",
        "    return True\n",
        "  return False\n",
        "print(phonenumbervalidate(9945673943))\n",
        "print(phonenumbervalidate(671238999))\n",
        "  "
      ],
      "execution_count": 0,
      "outputs": [
        {
          "output_type": "stream",
          "text": [
            "True\n",
            "False\n"
          ],
          "name": "stdout"
        }
      ]
    },
    {
      "cell_type": "code",
      "metadata": {
        "id": "036SwTWZPU65",
        "colab_type": "code",
        "outputId": "871b2f4d-815b-4639-ac31-320564abe529",
        "colab": {
          "base_uri": "https://localhost:8080/",
          "height": 72
        }
      },
      "source": [
        "import re\n",
        "def phoneNumberValidate(phone):\n",
        "    pattern='^[6-9][0-9]{9}$|^[0][6-9][0-9]{9}$|[+][9][1][6-9][0-9]{9}$'\n",
        "    phone=str(phone)\n",
        "    if re.match(pattern,phone):\n",
        "        return True\n",
        "    return False\n",
        "print(phoneNumberValidate(9966338855))\n",
        "print(phoneNumberValidate(99668855))\n",
        "print(phoneNumberValidate(+919988774455))"
      ],
      "execution_count": 0,
      "outputs": [
        {
          "output_type": "stream",
          "text": [
            "True\n",
            "False\n",
            "False\n"
          ],
          "name": "stdout"
        }
      ]
    },
    {
      "cell_type": "code",
      "metadata": {
        "colab_type": "code",
        "id": "235KVsYAPhnf",
        "outputId": "5ead96b7-bc7d-40db-d745-0d970faa542b",
        "colab": {
          "base_uri": "https://localhost:8080/",
          "height": 54
        }
      },
      "source": [
        "import re\n",
        "def validaterollnumber(number):\n",
        "    number=str(number)\n",
        "    pattern=\"^[1][5][2][U][1][A][0][1-9][0-6][0-9]$\";\n",
        "    if re.match(pattern,number):\n",
        "        return True\n",
        "    return False\n",
        "print(validaterollnumber(\"152U1A0555\"))\n",
        "print(validaterollnumber(\"152U1A0485\"))"
      ],
      "execution_count": 0,
      "outputs": [
        {
          "output_type": "stream",
          "text": [
            "True\n",
            "False\n"
          ],
          "name": "stdout"
        }
      ]
    },
    {
      "cell_type": "code",
      "metadata": {
        "colab_type": "code",
        "id": "yylQI8yLPgfH",
        "outputId": "01b34db3-bf54-45b7-8a82-c0b82da99170",
        "colab": {
          "base_uri": "https://localhost:8080/",
          "height": 54
        }
      },
      "source": [
        "#validation for emailid Username@DomainName.extension\n",
        "import re\n",
        "def validateemailid(email):\n",
        "    pattern=\"^[0-9a-z][0-9a-z_.]{4,13}[0-9a-z][@][a-z0-9]{3,18}[.][a-z]{2,4}$\"\n",
        "    if re.match(pattern,email):\n",
        "        return True\n",
        "    return False\n",
        "print(validateemailid(\"anil.1889@gmail.com\"))\n",
        "print(validateemailid(\"$anil.1889@gmail.com\"))"
      ],
      "execution_count": 0,
      "outputs": [
        {
          "output_type": "stream",
          "text": [
            "True\n",
            "False\n"
          ],
          "name": "stdout"
        }
      ]
    },
    {
      "cell_type": "markdown",
      "metadata": {
        "id": "CW-ClVtdofCY",
        "colab_type": "text"
      },
      "source": [
        "# Assignment:-\n",
        "1.File on the virtue machine or local machine           \n",
        "2.Need to write the data to the time              \n",
        "3.Need to return the count of lower case characters              \n",
        "4.Need to return the count of digits              \n",
        "5.Need to return the count of spl characers              \n",
        "6.Need to create a file which these parameters name,EmailID      \n",
        "Mobile number   \n",
        "Validate the EmailID   \n",
        "Validate the Mobile Number"
      ]
    },
    {
      "cell_type": "code",
      "metadata": {
        "id": "8YOeI32ao7jF",
        "colab_type": "code",
        "outputId": "575b2563-d868-4d64-a44d-c681f97ba2d8",
        "colab": {
          "base_uri": "https://localhost:8080/",
          "height": 35
        }
      },
      "source": [
        "# Function to create a file and write some data\n",
        "def createfile(filename):\n",
        "    f=open(filename,\"w\")\n",
        "    for i in range(9):\n",
        "        f.write(\"this is %d lines\\n\" % i)\n",
        "    print(\"file is created successfully and data is written\")\n",
        "    f.close()\n",
        "    return\n",
        "createfile(\"sa.txt\")"
      ],
      "execution_count": 91,
      "outputs": [
        {
          "output_type": "stream",
          "text": [
            "file is created successfully and data is written\n"
          ],
          "name": "stdout"
        }
      ]
    },
    {
      "cell_type": "code",
      "metadata": {
        "id": "Kchl_WXZzLfz",
        "colab_type": "code",
        "colab": {
          "base_uri": "https://localhost:8080/",
          "height": 35
        },
        "outputId": "55a10f9d-0006-4039-a753-183a7a14948c"
      },
      "source": [
        "def countCharacter(filename):\n",
        "    c=0\n",
        "    f=open(filename,\"r\")\n",
        "    if f.mode=='r':\n",
        "        x=f.read()\n",
        "        lst=list(x)\n",
        "        for i in lst:\n",
        "            if(i.islower()):\n",
        "                c=c+1;\n",
        "    return c\n",
        "print(countCharacter(\"sa.txt\"))"
      ],
      "execution_count": 92,
      "outputs": [
        {
          "output_type": "stream",
          "text": [
            "99\n"
          ],
          "name": "stdout"
        }
      ]
    },
    {
      "cell_type": "code",
      "metadata": {
        "id": "lDNX2mtUzZeS",
        "colab_type": "code",
        "colab": {}
      },
      "source": [
        "import re\n",
        "def phoneNumberVariable(phone):\n",
        "    pattern='^[6-9][0-9]{9}$|^[0][6-9][0-9]{9}$|^[+][9][1][6-9][0-9]{9}$'\n",
        "    phone=str(phone)\n",
        "    if re.match(pattern,phone):\n",
        "        return True\n",
        "    return False"
      ],
      "execution_count": 0,
      "outputs": []
    },
    {
      "cell_type": "code",
      "metadata": {
        "id": "oXnoa2cm0_j3",
        "colab_type": "code",
        "colab": {
          "base_uri": "https://localhost:8080/",
          "height": 35
        },
        "outputId": "19faf7bd-4b02-41c1-f898-f64cb45cf777"
      },
      "source": [
        "#Need to return the count of digits              \n",
        "def countCharacter(filename):\n",
        "    c=0\n",
        "    f=open(filename,\"r\")\n",
        "    if f.mode=='r':\n",
        "        x=f.read()\n",
        "        lst=list(x)\n",
        "        for i in lst:\n",
        "            if(i.isdecimal()):\n",
        "                c=c+1;\n",
        "    return c\n",
        "print(countCharacter(\"sa.txt\"))\n"
      ],
      "execution_count": 96,
      "outputs": [
        {
          "output_type": "stream",
          "text": [
            "10\n"
          ],
          "name": "stdout"
        }
      ]
    },
    {
      "cell_type": "code",
      "metadata": {
        "id": "Aup9Jwh90fmx",
        "colab_type": "code",
        "colab": {
          "base_uri": "https://localhost:8080/",
          "height": 108
        },
        "outputId": "1d7c9e0e-0138-485c-ed75-93644c4925d3"
      },
      "source": [
        "#Need to create a file which these parameters name,EmailID,Mobile number,Validate the EmailID,Validate the Mobile Number\n",
        "import re\n",
        "def phoneNumberVariable(phone):\n",
        "    pattern='^[6-9][0-9]{9}$|^[0][6-9][0-9]{9}$|^[+][9][1][6-9][0-9]{9}$'\n",
        "    phone=str(phone)\n",
        "    if re.match(pattern,phone):\n",
        "        return True\n",
        "    return False\n",
        "def createFile(filename):\n",
        "    f=open(filename,\"w\")\n",
        "    f.write(\"name: Sakruthi\")\n",
        "    f.write(\"ds.com\")\n",
        "    f.write(\"Mobile number: 2345678901\")\n",
        "    print(\"File is created and Data is written\")\n",
        "    f.close()    \n",
        "    return\n",
        "createFile(\"sa.txt\")\n",
        "\n",
        "\n",
        "# Validation for EmailID Username@DomainName.extension\n",
        "def validateEmailID(email):\n",
        "    pattern=\"^[0-9a-z][0-9a-z_.]{5,14}[0-9a-z][@][a-z0-9]{3,18}[.][a-z]{2,4}$\"\n",
        "    if re.match(pattern,email):\n",
        "        return True\n",
        "    return False\n",
        "\n",
        "\n",
        "\n",
        "print(phoneNumberVariable(\"+917032653823\"))\n",
        "print(phoneNumberVariable(\"08712345674\"))\n",
        "print(phoneNumberVariable(\"8712345674\"))\n",
        "\n",
        "print(validateEmailID(\"ds.com\"))\n",
        "\n"
      ],
      "execution_count": 94,
      "outputs": [
        {
          "output_type": "stream",
          "text": [
            "File is created and Data is written\n",
            "True\n",
            "True\n",
            "True\n",
            "False\n"
          ],
          "name": "stdout"
        }
      ]
    }
  ]
}